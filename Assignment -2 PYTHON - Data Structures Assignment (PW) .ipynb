{
 "cells": [
  {
   "cell_type": "markdown",
   "id": "188a2d7b",
   "metadata": {},
   "source": [
    "### Q1. How do you comment code in Python? What are the different types of comments?"
   ]
  },
  {
   "cell_type": "markdown",
   "id": "606156ec",
   "metadata": {},
   "source": [
    "Comments is the inclusion of short descriptions to increase codes readability. \n",
    "\n",
    "Types: Single line comments (#), Multi line comments (adding # in the beginning)  & also Docstrings (\"\"\" \"\"\")"
   ]
  },
  {
   "cell_type": "markdown",
   "id": "1844b310",
   "metadata": {},
   "source": [
    "### Q2. What are variables in Python? How do you declare and assign values to variables?"
   ]
  },
  {
   "cell_type": "markdown",
   "id": "b521954b",
   "metadata": {},
   "source": [
    " Variables are containers for storing data values"
   ]
  },
  {
   "cell_type": "code",
   "execution_count": 9,
   "id": "1e891206",
   "metadata": {},
   "outputs": [],
   "source": [
    "a = 10\n",
    "\n",
    "# where a is a variable & 10 is the value is reffered by variable name a"
   ]
  },
  {
   "cell_type": "markdown",
   "id": "684fd3e8",
   "metadata": {},
   "source": [
    "### Q3. How do you convert one data type to another in Python?"
   ]
  },
  {
   "cell_type": "markdown",
   "id": "23ea6ebb",
   "metadata": {},
   "source": [
    "Through typecasting\n",
    "\n",
    "example:"
   ]
  },
  {
   "cell_type": "code",
   "execution_count": 10,
   "id": "8e273669",
   "metadata": {},
   "outputs": [
    {
     "data": {
      "text/plain": [
       "(34, 35, 'sudhasnhu')"
      ]
     },
     "execution_count": 10,
     "metadata": {},
     "output_type": "execute_result"
    }
   ],
   "source": [
    "lst = [34,35,'sudhasnhu']\n",
    "tuple(lst)"
   ]
  },
  {
   "cell_type": "markdown",
   "id": "44cf82a6",
   "metadata": {},
   "source": [
    "### Q4. How do you write and execute a Python script from the command line?"
   ]
  },
  {
   "cell_type": "markdown",
   "id": "c4a4604a",
   "metadata": {},
   "source": [
    "First I'll create a .py file in any text editor with some code in it let's say print('Pyhton is easy').\n",
    "\n",
    "I'll open CLI and write:\n",
    "pyhton file_name.py and enter it for output to come"
   ]
  },
  {
   "cell_type": "markdown",
   "id": "35db2aa9",
   "metadata": {},
   "source": [
    "### Q5. Given a list my_list = [1, 2, 3, 4, 5], write the code to slice the list and obtain the sub-list [2, 3]."
   ]
  },
  {
   "cell_type": "code",
   "execution_count": 13,
   "id": "126241be",
   "metadata": {},
   "outputs": [],
   "source": [
    "my_list = [1, 2, 3, 4, 5]"
   ]
  },
  {
   "cell_type": "code",
   "execution_count": 15,
   "id": "e6528aa0",
   "metadata": {},
   "outputs": [
    {
     "data": {
      "text/plain": [
       "[2, 3]"
      ]
     },
     "execution_count": 15,
     "metadata": {},
     "output_type": "execute_result"
    }
   ],
   "source": [
    "my_list[1:3]"
   ]
  },
  {
   "cell_type": "markdown",
   "id": "e25131f8",
   "metadata": {},
   "source": [
    "### Q6. What is a complex number in mathematics, and how is it represented in Python?"
   ]
  },
  {
   "cell_type": "markdown",
   "id": "73555ceb",
   "metadata": {},
   "source": [
    "Complex numbers are expressed as the combination Real and imaginary numbers e.g: 19-10i where 19 is RealNo. and -10i is imaginaryNo."
   ]
  },
  {
   "cell_type": "code",
   "execution_count": 16,
   "id": "67e7eb89",
   "metadata": {},
   "outputs": [],
   "source": [
    "a = 19-10j"
   ]
  },
  {
   "cell_type": "code",
   "execution_count": 17,
   "id": "2599ec54",
   "metadata": {},
   "outputs": [
    {
     "data": {
      "text/plain": [
       "complex"
      ]
     },
     "execution_count": 17,
     "metadata": {},
     "output_type": "execute_result"
    }
   ],
   "source": [
    "type(a)"
   ]
  },
  {
   "cell_type": "markdown",
   "id": "1260dd9b",
   "metadata": {},
   "source": [
    "### Q7. What is the correct way to declare a variable named age and assign the value 25 to it?"
   ]
  },
  {
   "cell_type": "code",
   "execution_count": 20,
   "id": "dc85064b",
   "metadata": {},
   "outputs": [],
   "source": [
    "age = 25"
   ]
  },
  {
   "cell_type": "markdown",
   "id": "cadd3134",
   "metadata": {},
   "source": [
    "### Q8. Declare a variable named price and assign the value 9.99 to it. What data type does this variable belong to?"
   ]
  },
  {
   "cell_type": "code",
   "execution_count": 24,
   "id": "33e1f66a",
   "metadata": {},
   "outputs": [],
   "source": [
    "price = 9.99"
   ]
  },
  {
   "cell_type": "markdown",
   "id": "a3769fe6",
   "metadata": {},
   "source": [
    "Data type float"
   ]
  },
  {
   "cell_type": "markdown",
   "id": "d898447d",
   "metadata": {},
   "source": [
    "### Q9. Create a variable named name and assign your full name to it as a string. How would you print the value of this variable?"
   ]
  },
  {
   "cell_type": "code",
   "execution_count": 26,
   "id": "2de86320",
   "metadata": {},
   "outputs": [],
   "source": [
    "name = 'Sudhasnhu Shekhar Rai'"
   ]
  },
  {
   "cell_type": "code",
   "execution_count": 27,
   "id": "35775a00",
   "metadata": {},
   "outputs": [
    {
     "data": {
      "text/plain": [
       "'Sudhasnhu Shekhar Rai'"
      ]
     },
     "execution_count": 27,
     "metadata": {},
     "output_type": "execute_result"
    }
   ],
   "source": [
    "name"
   ]
  },
  {
   "cell_type": "markdown",
   "id": "172c482a",
   "metadata": {},
   "source": [
    "### Q10. Given the string \"Hello, World!\", extract the substring \"World\"."
   ]
  },
  {
   "cell_type": "code",
   "execution_count": 28,
   "id": "7ba3fab9",
   "metadata": {},
   "outputs": [],
   "source": [
    "hlo = 'Hello, World'"
   ]
  },
  {
   "cell_type": "code",
   "execution_count": 32,
   "id": "c7e80c08",
   "metadata": {},
   "outputs": [
    {
     "data": {
      "text/plain": [
       "'World'"
      ]
     },
     "execution_count": 32,
     "metadata": {},
     "output_type": "execute_result"
    }
   ],
   "source": [
    "hlo[7:12]"
   ]
  },
  {
   "cell_type": "markdown",
   "id": "91b7874e",
   "metadata": {},
   "source": [
    "### Q11. Create a variable named \"is_student\" and assign it a boolean value indicating whether you are currently a student or not."
   ]
  },
  {
   "cell_type": "code",
   "execution_count": 34,
   "id": "8c503d0a",
   "metadata": {},
   "outputs": [],
   "source": [
    "is_student = False"
   ]
  },
  {
   "cell_type": "code",
   "execution_count": 37,
   "id": "6bdb550b",
   "metadata": {},
   "outputs": [
    {
     "data": {
      "text/plain": [
       "True"
      ]
     },
     "execution_count": 37,
     "metadata": {},
     "output_type": "execute_result"
    }
   ],
   "source": [
    "is_student is False"
   ]
  },
  {
   "cell_type": "code",
   "execution_count": null,
   "id": "73184a19",
   "metadata": {},
   "outputs": [],
   "source": []
  }
 ],
 "metadata": {
  "kernelspec": {
   "display_name": "Python 3 (ipykernel)",
   "language": "python",
   "name": "python3"
  },
  "language_info": {
   "codemirror_mode": {
    "name": "ipython",
    "version": 3
   },
   "file_extension": ".py",
   "mimetype": "text/x-python",
   "name": "python",
   "nbconvert_exporter": "python",
   "pygments_lexer": "ipython3",
   "version": "3.9.12"
  }
 },
 "nbformat": 4,
 "nbformat_minor": 5
}
