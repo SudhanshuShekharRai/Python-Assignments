{
 "cells": [
  {
   "cell_type": "markdown",
   "id": "92073ea3",
   "metadata": {},
   "source": [
    "# Assignment-1"
   ]
  },
  {
   "cell_type": "markdown",
   "id": "6663767d",
   "metadata": {},
   "source": [
    "### Q1. Create one variable containing following type of data:"
   ]
  },
  {
   "cell_type": "markdown",
   "id": "bf424ab9",
   "metadata": {},
   "source": [
    "(i) string"
   ]
  },
  {
   "cell_type": "code",
   "execution_count": 1,
   "id": "970b0d8c",
   "metadata": {},
   "outputs": [],
   "source": [
    "a = 'Sudhasnhu'"
   ]
  },
  {
   "cell_type": "markdown",
   "id": "b46b1e3f",
   "metadata": {},
   "source": [
    "(ii) list"
   ]
  },
  {
   "cell_type": "code",
   "execution_count": 9,
   "id": "1c92b4cf",
   "metadata": {},
   "outputs": [],
   "source": [
    "lst = ['1','sudh',23,[4,6,7],(3+1j)]"
   ]
  },
  {
   "cell_type": "markdown",
   "id": "b0328e87",
   "metadata": {},
   "source": [
    "(iii) float"
   ]
  },
  {
   "cell_type": "code",
   "execution_count": 11,
   "id": "c4a1eb15",
   "metadata": {},
   "outputs": [],
   "source": [
    "flt = 3.3"
   ]
  },
  {
   "cell_type": "markdown",
   "id": "00e7a9d2",
   "metadata": {},
   "source": [
    "(iv) tuple"
   ]
  },
  {
   "cell_type": "code",
   "execution_count": 12,
   "id": "61e2272e",
   "metadata": {},
   "outputs": [],
   "source": [
    "tpl = (1,3,478)"
   ]
  },
  {
   "cell_type": "markdown",
   "id": "203ff137",
   "metadata": {},
   "source": [
    "### Q2. Given are some following variables containing data:"
   ]
  },
  {
   "cell_type": "markdown",
   "id": "9adf9805",
   "metadata": {},
   "source": [
    "(i) var1 = ‘ ‘   "
   ]
  },
  {
   "cell_type": "markdown",
   "id": "18654d68",
   "metadata": {},
   "source": [
    "String"
   ]
  },
  {
   "cell_type": "markdown",
   "id": "c4a1d391",
   "metadata": {},
   "source": [
    "(ii) var2 = ‘[ DS , ML , Python]’"
   ]
  },
  {
   "cell_type": "markdown",
   "id": "b4101c01",
   "metadata": {},
   "source": [
    "Syntax Error"
   ]
  },
  {
   "cell_type": "markdown",
   "id": "a83e1e84",
   "metadata": {},
   "source": [
    "(iii) var3 = [ ‘DS’ , ’ML’ , ‘Python’ ]"
   ]
  },
  {
   "cell_type": "markdown",
   "id": "9c159eb8",
   "metadata": {},
   "source": [
    "List"
   ]
  },
  {
   "cell_type": "markdown",
   "id": "dfa8e112",
   "metadata": {},
   "source": [
    "(iv) var4 = 1"
   ]
  },
  {
   "cell_type": "markdown",
   "id": "de656226",
   "metadata": {},
   "source": [
    "Integer"
   ]
  },
  {
   "cell_type": "markdown",
   "id": "3f53700b",
   "metadata": {},
   "source": [
    "### Q3. Explain the use of the following operators using an example:"
   ]
  },
  {
   "cell_type": "markdown",
   "id": "53eec00a",
   "metadata": {},
   "source": [
    "(i) /"
   ]
  },
  {
   "cell_type": "markdown",
   "id": "519a4ba3",
   "metadata": {},
   "source": [
    "Division operator used to perform division. "
   ]
  },
  {
   "cell_type": "code",
   "execution_count": 20,
   "id": "72041264",
   "metadata": {},
   "outputs": [
    {
     "data": {
      "text/plain": [
       "3.3333333333333335"
      ]
     },
     "execution_count": 20,
     "metadata": {},
     "output_type": "execute_result"
    }
   ],
   "source": [
    "10.0/3"
   ]
  },
  {
   "cell_type": "markdown",
   "id": "6b8b9eab",
   "metadata": {},
   "source": [
    "(ii) %"
   ]
  },
  {
   "cell_type": "markdown",
   "id": "d1a7242a",
   "metadata": {},
   "source": [
    "Modulus operator used to find the remainder in division operation."
   ]
  },
  {
   "cell_type": "code",
   "execution_count": 23,
   "id": "098ed257",
   "metadata": {},
   "outputs": [
    {
     "data": {
      "text/plain": [
       "0"
      ]
     },
     "execution_count": 23,
     "metadata": {},
     "output_type": "execute_result"
    }
   ],
   "source": [
    "10%2"
   ]
  },
  {
   "cell_type": "markdown",
   "id": "f47ea7c8",
   "metadata": {},
   "source": [
    "(iii) //"
   ]
  },
  {
   "cell_type": "markdown",
   "id": "8d06129b",
   "metadata": {},
   "source": [
    "Floor division operator used to find the quotient"
   ]
  },
  {
   "cell_type": "code",
   "execution_count": 27,
   "id": "f9c9bf00",
   "metadata": {},
   "outputs": [
    {
     "data": {
      "text/plain": [
       "2"
      ]
     },
     "execution_count": 27,
     "metadata": {},
     "output_type": "execute_result"
    }
   ],
   "source": [
    "8//3"
   ]
  },
  {
   "cell_type": "markdown",
   "id": "504017e4",
   "metadata": {},
   "source": [
    "(iv) **"
   ]
  },
  {
   "cell_type": "markdown",
   "id": "7215a571",
   "metadata": {},
   "source": [
    "Exponentiation operator used as power of a number"
   ]
  },
  {
   "cell_type": "code",
   "execution_count": 28,
   "id": "abca9169",
   "metadata": {},
   "outputs": [
    {
     "data": {
      "text/plain": [
       "9"
      ]
     },
     "execution_count": 28,
     "metadata": {},
     "output_type": "execute_result"
    }
   ],
   "source": [
    "3**2"
   ]
  },
  {
   "cell_type": "markdown",
   "id": "35831a2c",
   "metadata": {},
   "source": [
    "### Q4. Create a list of length 10 of your choice containing multiple types of data. Using for loop print the\n",
    "### element and its data type."
   ]
  },
  {
   "cell_type": "code",
   "execution_count": 31,
   "id": "3f3721e8",
   "metadata": {},
   "outputs": [],
   "source": [
    "l1 = ['sudh',3.2,True,(4+7j),56,[2,4,'Roy'],(4,'asus'),{1 : True, 0 : False}, {1,5,5,5,6,7},'']"
   ]
  },
  {
   "cell_type": "code",
   "execution_count": 40,
   "id": "4eb01f4b",
   "metadata": {},
   "outputs": [
    {
     "name": "stdout",
     "output_type": "stream",
     "text": [
      "sudh  ---------->  <class 'str'>\n",
      "3.2  ---------->  <class 'float'>\n",
      "True  ---------->  <class 'bool'>\n",
      "(4+7j)  ---------->  <class 'complex'>\n",
      "56  ---------->  <class 'int'>\n",
      "[2, 4, 'Roy']  ---------->  <class 'list'>\n",
      "(4, 'asus')  ---------->  <class 'tuple'>\n",
      "{1: True, 0: False}  ---------->  <class 'dict'>\n",
      "{1, 5, 6, 7}  ---------->  <class 'set'>\n",
      "  ---------->  <class 'str'>\n"
     ]
    }
   ],
   "source": [
    "for i in l1:\n",
    "    print(i,' ----------> ',type(i))"
   ]
  },
  {
   "cell_type": "markdown",
   "id": "45ec8b9e",
   "metadata": {},
   "source": [
    "### Q5. Using a while loop, verify if the number A is purely divisible by number B and if so then how many\n",
    "### times it can be divisible."
   ]
  },
  {
   "cell_type": "code",
   "execution_count": 4,
   "id": "d8de1979",
   "metadata": {},
   "outputs": [
    {
     "name": "stdout",
     "output_type": "stream",
     "text": [
      "Enter the valye of A: 18\n",
      "Enter the valye of B: 3\n",
      "2 is not purely divisible by 3\n",
      "2 times\n"
     ]
    }
   ],
   "source": [
    "a = int(input(\"Enter the valye of A: \"))\n",
    "b = int(input(\"Enter the valye of B: \"))\n",
    "\n",
    "count = 0 \n",
    "\n",
    "while a>=b:\n",
    "    a=a//b\n",
    "    count+=1\n",
    "\n",
    "if a == 0:\n",
    "    print(f'{a} is purely divisible by {b} {count} times')\n",
    "else:\n",
    "    print(f'{a} is not purely divisible by {b}')\n",
    "    \n",
    "print(f'{count} times')\n",
    "    "
   ]
  },
  {
   "cell_type": "markdown",
   "id": "31e7d283",
   "metadata": {},
   "source": [
    "### Q6. Create a list containing 25 int type data. Using for loop and if-else condition print if the element is\n",
    "### divisible by 3 or not."
   ]
  },
  {
   "cell_type": "code",
   "execution_count": 15,
   "id": "bb299df2",
   "metadata": {},
   "outputs": [],
   "source": [
    "import random\n",
    "lst2 = random.choices(range(1, 108), k=25)"
   ]
  },
  {
   "cell_type": "code",
   "execution_count": 16,
   "id": "13b7c6f5",
   "metadata": {},
   "outputs": [
    {
     "name": "stdout",
     "output_type": "stream",
     "text": [
      "104 isn't divisible by 3\n",
      "93 is divisible by 3\n",
      "2 isn't divisible by 3\n",
      "91 isn't divisible by 3\n",
      "81 is divisible by 3\n",
      "30 is divisible by 3\n",
      "11 isn't divisible by 3\n",
      "2 isn't divisible by 3\n",
      "101 isn't divisible by 3\n",
      "71 isn't divisible by 3\n",
      "22 isn't divisible by 3\n",
      "65 isn't divisible by 3\n",
      "42 is divisible by 3\n",
      "51 is divisible by 3\n",
      "4 isn't divisible by 3\n",
      "89 isn't divisible by 3\n",
      "102 is divisible by 3\n",
      "45 is divisible by 3\n",
      "53 isn't divisible by 3\n",
      "51 is divisible by 3\n",
      "19 isn't divisible by 3\n",
      "82 isn't divisible by 3\n",
      "13 isn't divisible by 3\n",
      "14 isn't divisible by 3\n",
      "100 isn't divisible by 3\n"
     ]
    }
   ],
   "source": [
    "for i in lst2:\n",
    "    if i%3 == 0:\n",
    "        print(f'{i} is divisible by 3')\n",
    "    else:\n",
    "        print(f'{i} isn\\'t divisible by 3')"
   ]
  },
  {
   "cell_type": "markdown",
   "id": "93b30631",
   "metadata": {},
   "source": [
    "### Q7. What do you understand about mutable and immutable data types? Give examples for both showing\n",
    "### this property."
   ]
  },
  {
   "cell_type": "markdown",
   "id": "e9a0f1fe",
   "metadata": {},
   "source": [
    "Mutable: Ojects whose value can be changed after they are created. eg: list, set, Dictionary...\n",
    "\n",
    "\n",
    "Immutable: Ojects whose value can't be changed after they are created. eg: Strings & Tuple...."
   ]
  },
  {
   "cell_type": "code",
   "execution_count": 20,
   "id": "28eedb69",
   "metadata": {},
   "outputs": [],
   "source": [
    "l2 = [10,35, 40]\n",
    "l2[1] = 'Sudh'"
   ]
  },
  {
   "cell_type": "code",
   "execution_count": 21,
   "id": "1371b4ff",
   "metadata": {},
   "outputs": [
    {
     "data": {
      "text/plain": [
       "[10, 'Sudh', 40]"
      ]
     },
     "execution_count": 21,
     "metadata": {},
     "output_type": "execute_result"
    }
   ],
   "source": [
    "l2"
   ]
  },
  {
   "cell_type": "code",
   "execution_count": 22,
   "id": "22169625",
   "metadata": {},
   "outputs": [],
   "source": [
    "s = 'SuDhAnShu'"
   ]
  },
  {
   "cell_type": "code",
   "execution_count": 23,
   "id": "6bd07dc5",
   "metadata": {},
   "outputs": [
    {
     "data": {
      "text/plain": [
       "'u'"
      ]
     },
     "execution_count": 23,
     "metadata": {},
     "output_type": "execute_result"
    }
   ],
   "source": [
    "s[1]"
   ]
  },
  {
   "cell_type": "code",
   "execution_count": 24,
   "id": "beb83c70",
   "metadata": {},
   "outputs": [
    {
     "ename": "TypeError",
     "evalue": "'str' object does not support item assignment",
     "output_type": "error",
     "traceback": [
      "\u001b[1;31m---------------------------------------------------------------------------\u001b[0m",
      "\u001b[1;31mTypeError\u001b[0m                                 Traceback (most recent call last)",
      "Input \u001b[1;32mIn [24]\u001b[0m, in \u001b[0;36m<cell line: 1>\u001b[1;34m()\u001b[0m\n\u001b[1;32m----> 1\u001b[0m s[\u001b[38;5;241m1\u001b[39m] \u001b[38;5;241m=\u001b[39m \u001b[38;5;124m'\u001b[39m\u001b[38;5;124mXL\u001b[39m\u001b[38;5;124m'\u001b[39m\n",
      "\u001b[1;31mTypeError\u001b[0m: 'str' object does not support item assignment"
     ]
    }
   ],
   "source": [
    "s[1] = 'XL'"
   ]
  },
  {
   "cell_type": "code",
   "execution_count": null,
   "id": "d4ac748e",
   "metadata": {},
   "outputs": [],
   "source": []
  }
 ],
 "metadata": {
  "kernelspec": {
   "display_name": "Python 3 (ipykernel)",
   "language": "python",
   "name": "python3"
  },
  "language_info": {
   "codemirror_mode": {
    "name": "ipython",
    "version": 3
   },
   "file_extension": ".py",
   "mimetype": "text/x-python",
   "name": "python",
   "nbconvert_exporter": "python",
   "pygments_lexer": "ipython3",
   "version": "3.9.12"
  }
 },
 "nbformat": 4,
 "nbformat_minor": 5
}
